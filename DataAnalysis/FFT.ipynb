{
  "nbformat": 4,
  "nbformat_minor": 0,
  "metadata": {
    "colab": {
      "name": "FFT.ipynb",
      "provenance": [],
      "collapsed_sections": []
    },
    "kernelspec": {
      "name": "python3",
      "display_name": "Python 3"
    },
    "language_info": {
      "name": "python"
    }
  },
  "cells": [
    {
      "cell_type": "code",
      "metadata": {
        "id": "JCz_sfXGHeO_"
      },
      "source": [
        "import pandas as pd\n",
        "import numpy as np\n",
        "import math\n",
        "import matplotlib.pyplot as plt\n",
        "import seaborn\n",
        "from scipy import arange\n",
        "from scipy.signal import argrelextrema\n",
        "import scipy.io as sio\n",
        "from scipy.fftpack import fft, ifft\n",
        "from statsmodels import api as sm\n",
        "from statsmodels.graphics.tsaplots import plot_acf, plot_pacf\n",
        "from matplotlib.pyplot import MultipleLocator\n",
        "from statsmodels.tsa.seasonal import seasonal_decompose\n",
        "from dateutil.parser import parse"
      ],
      "execution_count": null,
      "outputs": []
    },
    {
      "cell_type": "code",
      "metadata": {
        "id": "u6So5xZ5Hj1M"
      },
      "source": [
        "def load_data() -> pd.DataFrame:\n",
        "\n",
        "  df = pd.read_excel('d1.xlsx')\n",
        "  df.columns = ['Date', 'NOx']\n",
        "  df = df.dropna(subset=['NOx'])\n",
        "\n",
        "  return df"
      ],
      "execution_count": null,
      "outputs": []
    },
    {
      "cell_type": "code",
      "metadata": {
        "id": "Ssfy-j5kHn_A"
      },
      "source": [
        "def fftTransfer(timeseries, n=10, fmin = 0.2):\n",
        "  \n",
        "  plt.subplot(211)\n",
        "  x = np.arange(len(timeseries))  # x轴\n",
        "  plt.plot(x, timeseries)\n",
        "  plt.title('Original wave')\n",
        "  \n",
        "  yf = abs(fft(timeseries.values))\n",
        "  yfnormlize = yf / len(timeseries)  # 归一化处理\n",
        "  yfhalf = yfnormlize[range(int(len(timeseries) / 2))]  # 由于对称性，只取一半区间\n",
        "  yfhalf = yfhalf * 2   # y 归一化\n",
        "\n",
        "  xf = np.arange(len(timeseries))  # 频率\n",
        "  xhalf = xf[range(int(len(timeseries) / 2))]  # 取一半区间\n",
        "\n",
        "  plt.subplot(212)\n",
        "  plt.plot(xhalf, yfhalf, 'r')\n",
        "  plt.title('FFT of Mixed wave(half side frequency range)', fontsize=10, color='#7A378B')\n",
        "\n",
        "  fwbest = yfhalf[argrelextrema(yfhalf, np.greater)]\n",
        "  xwbest = argrelextrema(yfhalf, np.greater)\n",
        "  plt.plot(xwbest[0][:n], fwbest[:n], 'o', c='yellow')\n",
        "  plt.show(block=False)\n",
        "  plt.show()\n",
        "\n",
        "  xorder = np.argsort(-fwbest)  # 对获取到的极值进行降序排序，也就是频率越接近，越排前\n",
        "  # print('xorder = ', xorder)\n",
        "  xworder = list()\n",
        "  xworder.append(xwbest[x] for x in xorder)  # 返回频率从大到小的极值顺序\n",
        "  fworder = list()\n",
        "  fworder.append(fwbest[x] for x in xorder)  # 返回幅度\n",
        "\n",
        "\n",
        "  if len(fwbest) <= n:\n",
        "      fwbest = fwbest[fwbest >= fmin].copy()\n",
        "      return len(timeseries)/xwbest[0][xorder[:len(fwbest)]]\n",
        "  else:\n",
        "      fwbest = fwbest[fwbest >= fmin].copy()\n",
        "      # print(len(fwbest))\n",
        "      # print(xwbest)\n",
        "      return len(timeseries)/xwbest[0][xorder[:len(fwbest)]]"
      ],
      "execution_count": null,
      "outputs": []
    },
    {
      "cell_type": "code",
      "metadata": {
        "id": "j4oAyzgCHwRT"
      },
      "source": [
        "data = load_data()\n",
        "# data = data[data.Date < '20150130']\n",
        "data = data.NOx.values"
      ],
      "execution_count": null,
      "outputs": []
    },
    {
      "cell_type": "code",
      "metadata": {
        "colab": {
          "base_uri": "https://localhost:8080/",
          "height": 319
        },
        "id": "lU8N6o3NHxER",
        "outputId": "33e0436a-9374-4135-d76d-61fc84dfcefb"
      },
      "source": [
        "y = data\n",
        "y = pd.Series(y).astype('float')\n",
        "t = fftTransfer(y, n=5, fmin = 2)\n",
        "p = []\n",
        "for x in t:\n",
        "  if x < 672:\n",
        "    p.append(x)\n",
        "print('cycle = ',p)"
      ],
      "execution_count": null,
      "outputs": [
        {
          "output_type": "display_data",
          "data": {
            "image/png": "[encoded data removed]",
            "text/plain": [
              "<Figure size 432x288 with 2 Axes>"
            ]
          },
          "metadata": {
            "needs_background": "light"
          }
        },
        {
          "output_type": "stream",
          "text": [
            "cycle =  [93.80614115490376, 656.0416666666666, 93.93529141808169, 94.23802946593001, 93.59167809785093, 109.39871726349546, 649.7936507936508, 93.50616719963453, 31.31655446756426, 328.5473515248796, 93.03863636363636, 46.95687084193622, 31.302186878727635, 93.29307201458523, 131.29249518922387, 109.69185423365488, 82.16981132075472, 31.268713718301253, 46.92457588262265, 92.74354327140915, 94.45546838947854, 389.13498098859316, 82.07097032878909, 92.65957446808511, 94.32488479262673, 93.12329390354869, 631.7438271604939, 92.57575757575758, 92.9119382660009, 645.6940063091482, 31.287832467135434, 94.1080459770115, 92.82766439909297, 82.00520833333333, 110.04569892473118, 46.8708495534692, 329.60547504025766, 109.04901438465636, 635.6677018633541, 540.065963060686, 94.89337042188224, 50.53950617283951, 31.25916310323763, 95.02553389043639, 598.4941520467836, 50.57697059550284, 81.84126349460216, 31.240079365079364, 641.6457680250784, 130.2896244430299, 92.40857787810384, 31.211497407746265, 94.54272517321016, 109.80954935622317, 560.7808219178082, 95.29096834264432, 664.5616883116883, 94.67391304347827, 332.28084415584414, 109.16533333333334, 81.90676270508203, 335.0, 568.5694444444445, 31.374156958920906, 620.2575757575758, 92.03462230215827, 108.93294305481639, 43.82038107471634, 325.93152866242036, 132.1400903808909, 130.70561941251597, 624.0396341463414, 82.40136876006441, 23.473050458715598, 96.18656015037594, 109.57441113490364, 464.1383219954649, 459.96629213483146, 609.1815476190476, 31.326140189776552, 131.5456298200514, 322.8470031545741, 81.71057884231537, 96.45852968897266, 296.21562952243124, 32.88640745501285, 603.7905604719764, 269.6772068511199, 96.05114969497889, 73.02354620049947, 305.5, 219.38370846730976, 87.9608938547486, 98.12320230105465, 345.16863406408095]\n"
          ],
          "name": "stdout"
        }
      ]
    }
  ]
}