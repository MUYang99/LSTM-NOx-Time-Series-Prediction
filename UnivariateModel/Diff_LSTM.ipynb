{
  "nbformat": 4,
  "nbformat_minor": 0,
  "metadata": {
    "colab": {
      "name": "Diff.LSTM.ipynb",
      "provenance": [],
      "authorship_tag": "ABX9TyNLTiuklSOJS7V/7KGkOIGi",
      "include_colab_link": true
    },
    "kernelspec": {
      "name": "python3",
      "display_name": "Python 3"
    },
    "language_info": {
      "name": "python"
    }
  },
  "cells": [
    {
      "cell_type": "markdown",
      "metadata": {
        "id": "view-in-github",
        "colab_type": "text"
      },
      "source": [
        "<a href=\"https://colab.research.google.com/github/MUYang99/Time-Series-Prediction-Based-on-Deep-Learning/blob/main/Diff_LSTM.ipynb\" target=\"_parent\"><img src=\"https://colab.research.google.com/assets/colab-badge.svg\" alt=\"Open In Colab\"/></a>"
      ]
    },
    {
      "cell_type": "code",
      "metadata": {
        "colab": {
          "base_uri": "https://localhost:8080/"
        },
        "id": "JMXZTNN_Zdy1",
        "outputId": "ad559ed8-5f92-4ca7-b063-07aaca9df2ba"
      },
      "source": [
        "import pandas as pd\n",
        "import numpy as np\n",
        "from keras.models import Sequential, load_model\n",
        "from keras.layers import Dense, Dropout, Activation, Flatten, LSTM, TimeDistributed, RepeatVector\n",
        "from keras.optimizers import adam_v2\n",
        "from keras.callbacks import EarlyStopping, ModelCheckpoint, ReduceLROnPlateau, Callback\n",
        "from sklearn.preprocessing import StandardScaler, MinMaxScaler\n",
        "import matplotlib.pyplot as plt\n",
        "from sklearn.metrics import mean_squared_error, mean_absolute_error, median_absolute_error, r2_score, explained_variance_score\n",
        "from scipy import stats, arange\n",
        "from matplotlib.pyplot import MultipleLocator\n",
        "from pandas import DataFrame\n",
        "from pandas import Series\n",
        "from pandas import concat\n",
        "from pandas import read_csv\n",
        "from pandas import datetime\n",
        "from sklearn.metrics import mean_squared_error\n",
        "from sklearn.preprocessing import MinMaxScaler\n",
        "from keras.models import Sequential\n",
        "from keras.layers import Dense\n",
        "from keras.layers import LSTM\n",
        "from math import sqrt\n",
        "from matplotlib import pyplot\n",
        "from numpy import array"
      ],
      "execution_count": 1,
      "outputs": [
        {
          "output_type": "stream",
          "name": "stderr",
          "text": [
            "/usr/local/lib/python3.7/dist-packages/ipykernel_launcher.py:16: FutureWarning: The pandas.datetime class is deprecated and will be removed from pandas in a future version. Import from datetime module instead.\n",
            "  app.launch_new_instance()\n"
          ]
        }
      ]
    },
    {
      "cell_type": "code",
      "metadata": {
        "id": "STz2R90T0wrr"
      },
      "source": [
        "### Import data & dropna\n",
        "df = pd.read_excel('d1.xlsx')\n",
        "df.columns = ['Date', 'NOx']\n",
        "df = df.dropna(subset=['NOx'])\n",
        "\n",
        "### Data selection(date & NOx)\n",
        "data = df[df.Date < '20151231']\n",
        "# data = df\n",
        "data = data.drop([\"Date\"], axis=1)\n",
        "data = data.values\n",
        "data = data.reshape(len(data),)\n",
        "\n",
        "### Average hour data\n",
        "d1 = data.tolist()\n",
        "n = len(d1)%4\n",
        "while n:\n",
        "  d1.pop()\n",
        "  n -= 1\n",
        "m = int(len(d1)/4)\n",
        "arr = np.array(d1).reshape(m, 4)\n",
        "avg = np.mean(arr, axis = 1)\n",
        "\n",
        "### Data normalization\n",
        "scaler = MinMaxScaler(feature_range=(0, 1))\n",
        "avg = avg.reshape(len(avg), 1)\n",
        "data = scaler.fit_transform(avg)"
      ],
      "execution_count": 2,
      "outputs": []
    },
    {
      "cell_type": "code",
      "metadata": {
        "id": "iYIsbJNF1IOD"
      },
      "source": [
        "# configure\n",
        "n_lag = 120\n",
        "n_seq = 72\n",
        "n_test = 1"
      ],
      "execution_count": 3,
      "outputs": []
    },
    {
      "cell_type": "code",
      "metadata": {
        "colab": {
          "base_uri": "https://localhost:8080/"
        },
        "id": "gRQ11Z46fOKq",
        "outputId": "45045133-01a4-4a3f-a24e-6c08fcd9c190"
      },
      "source": [
        "# date-time parsing function for loading the dataset\n",
        "def parser(x):\n",
        "\treturn datetime.strptime('190'+x, '%Y-%m')\n",
        "# load dataset\n",
        "series = read_csv('shampoo-sales.csv', header=0, parse_dates=[0], index_col=0, squeeze=True, date_parser=parser)\n",
        "raw_values = series.values\n",
        "raw_values"
      ],
      "execution_count": 2,
      "outputs": [
        {
          "output_type": "execute_result",
          "data": {
            "text/plain": [
              "array([266. , 145.9, 183.1, 119.3, 180.3, 168.5, 231.8, 224.5, 192.8,\n",
              "       122.9, 336.5, 185.9, 194.3, 149.5, 210.1, 273.3, 191.4, 287. ,\n",
              "       226. , 303.6, 289.9, 421.6, 264.5, 342.3, 339.7, 440.4, 315.9,\n",
              "       439.3, 401.3, 437.4, 575.5, 407.6, 682. , 475.3, 581.3, 646.9])"
            ]
          },
          "metadata": {},
          "execution_count": 2
        }
      ]
    },
    {
      "cell_type": "code",
      "metadata": {
        "colab": {
          "base_uri": "https://localhost:8080/"
        },
        "id": "pvRbtDdJ4SL5",
        "outputId": "e6ddfc2b-9eb9-43a7-c622-c5549ce683bc"
      },
      "source": [
        "# create a differenced series\n",
        "def difference(dataset, interval=1):\n",
        "\tdiff = list()\n",
        "\tfor i in range(interval, len(dataset)):\n",
        "\t\tvalue = dataset[i] - dataset[i - interval]\n",
        "\t\tdiff.append(value)\n",
        "\treturn Series(diff)\n",
        " \n",
        "diff_series = difference(raw_values, 1)\n",
        "diff_values = diff_series.values\n",
        "diff_values"
      ],
      "execution_count": 3,
      "outputs": [
        {
          "output_type": "execute_result",
          "data": {
            "text/plain": [
              "array([-120.1,   37.2,  -63.8,   61. ,  -11.8,   63.3,   -7.3,  -31.7,\n",
              "        -69.9,  213.6, -150.6,    8.4,  -44.8,   60.6,   63.2,  -81.9,\n",
              "         95.6,  -61. ,   77.6,  -13.7,  131.7, -157.1,   77.8,   -2.6,\n",
              "        100.7, -124.5,  123.4,  -38. ,   36.1,  138.1, -167.9,  274.4,\n",
              "       -206.7,  106. ,   65.6])"
            ]
          },
          "metadata": {},
          "execution_count": 3
        }
      ]
    },
    {
      "cell_type": "code",
      "metadata": {
        "id": "G9PO8JWN4fWX"
      },
      "source": [
        "diff_values = diff_values.reshape(len(diff_values), 1)\n",
        "# rescale values to -1, 1\n",
        "scaler = MinMaxScaler(feature_range=(-1, 1))\n",
        "scaled_values = scaler.fit_transform(diff_values)\n",
        "scaled_values = scaled_values.reshape(len(scaled_values), 1)"
      ],
      "execution_count": 4,
      "outputs": []
    },
    {
      "cell_type": "code",
      "metadata": {
        "colab": {
          "base_uri": "https://localhost:8080/"
        },
        "id": "ftltsDbD4qWZ",
        "outputId": "4d420165-56cf-4f22-debb-231e13420c0b"
      },
      "source": [
        "n_lag = 1\n",
        "n_seq = 3\n",
        "# convert time series into supervised learning problem\n",
        "def series_to_supervised(data, n_in=1, n_out=1, dropnan=True):\n",
        "\tn_vars = 1 if type(data) is list else data.shape[1]\n",
        "\tdf = DataFrame(data)\n",
        "\tcols, names = list(), list()\n",
        "\t# input sequence (t-n, ... t-1)\n",
        "\tfor i in range(n_in, 0, -1):\n",
        "\t\tcols.append(df.shift(i))\n",
        "\t\tnames += [('var%d(t-%d)' % (j+1, i)) for j in range(n_vars)]\n",
        "\t# forecast sequence (t, t+1, ... t+n)\n",
        "\tfor i in range(0, n_out):\n",
        "\t\tcols.append(df.shift(-i))\n",
        "\t\tif i == 0:\n",
        "\t\t\tnames += [('var%d(t)' % (j+1)) for j in range(n_vars)]\n",
        "\t\telse:\n",
        "\t\t\tnames += [('var%d(t+%d)' % (j+1, i)) for j in range(n_vars)]\n",
        "\t# put it all together\n",
        "\tagg = concat(cols, axis=1)\n",
        "\tagg.columns = names\n",
        "\t# drop rows with NaN values\n",
        "\tif dropnan:\n",
        "\t\tagg.dropna(inplace=True)\n",
        "\treturn agg\n",
        "\n",
        "# transform into supervised learning problem X, y\n",
        "supervised = series_to_supervised(scaled_values, n_lag, n_seq)\n",
        "supervised_values = supervised.values\n",
        "supervised_values"
      ],
      "execution_count": 6,
      "outputs": [
        {
          "output_type": "execute_result",
          "data": {
            "text/plain": [
              "array([[-0.63999169,  0.01392642, -0.40594471,  0.11286635],\n",
              "       [ 0.01392642, -0.40594471,  0.11286635, -0.18977344],\n",
              "       [-0.40594471,  0.11286635, -0.18977344,  0.12242777],\n",
              "       [ 0.11286635, -0.18977344,  0.12242777, -0.17106631],\n",
              "       [-0.18977344,  0.12242777, -0.17106631, -0.27250052],\n",
              "       [ 0.12242777, -0.17106631, -0.27250052, -0.43130326],\n",
              "       [-0.17106631, -0.27250052, -0.43130326,  0.74724589],\n",
              "       [-0.27250052, -0.43130326,  0.74724589, -0.76678445],\n",
              "       [-0.43130326,  0.74724589, -0.76678445, -0.10579921],\n",
              "       [ 0.74724589, -0.76678445, -0.10579921, -0.32695905],\n",
              "       [-0.76678445, -0.10579921, -0.32695905,  0.11120349],\n",
              "       [-0.10579921, -0.32695905,  0.11120349,  0.12201206],\n",
              "       [-0.32695905,  0.11120349,  0.12201206, -0.48118894],\n",
              "       [ 0.11120349,  0.12201206, -0.48118894,  0.25670339],\n",
              "       [ 0.12201206, -0.48118894,  0.25670339, -0.39430472],\n",
              "       [-0.48118894,  0.25670339, -0.39430472,  0.18187487],\n",
              "       [ 0.25670339, -0.39430472,  0.18187487, -0.197672  ],\n",
              "       [-0.39430472,  0.18187487, -0.197672  ,  0.40677614],\n",
              "       [ 0.18187487, -0.197672  ,  0.40677614, -0.79380586],\n",
              "       [-0.197672  ,  0.40677614, -0.79380586,  0.1827063 ],\n",
              "       [ 0.40677614, -0.79380586,  0.1827063 , -0.15152775],\n",
              "       [-0.79380586,  0.1827063 , -0.15152775,  0.2779048 ],\n",
              "       [ 0.1827063 , -0.15152775,  0.2779048 , -0.6582831 ],\n",
              "       [-0.15152775,  0.2779048 , -0.6582831 ,  0.37227188],\n",
              "       [ 0.2779048 , -0.6582831 ,  0.37227188, -0.2986905 ],\n",
              "       [-0.6582831 ,  0.37227188, -0.2986905 ,  0.00935356],\n",
              "       [ 0.37227188, -0.2986905 ,  0.00935356,  0.43338183],\n",
              "       [-0.2986905 ,  0.00935356,  0.43338183, -0.83870297],\n",
              "       [ 0.00935356,  0.43338183, -0.83870297,  1.        ],\n",
              "       [ 0.43338183, -0.83870297,  1.        , -1.        ],\n",
              "       [-0.83870297,  1.        , -1.        ,  0.29993764],\n",
              "       [ 1.        , -1.        ,  0.29993764,  0.13198919]])"
            ]
          },
          "metadata": {},
          "execution_count": 6
        }
      ]
    },
    {
      "cell_type": "code",
      "metadata": {
        "colab": {
          "base_uri": "https://localhost:8080/"
        },
        "id": "H6qpz7a-5SNy",
        "outputId": "066b68a0-02eb-4797-ed28-1f6f14f95be8"
      },
      "source": [
        "supervised_values.shape"
      ],
      "execution_count": 7,
      "outputs": [
        {
          "output_type": "execute_result",
          "data": {
            "text/plain": [
              "(32, 4)"
            ]
          },
          "metadata": {},
          "execution_count": 7
        }
      ]
    },
    {
      "cell_type": "code",
      "metadata": {
        "colab": {
          "base_uri": "https://localhost:8080/"
        },
        "id": "swipQhaa5Bw6",
        "outputId": "39034e72-c7b4-42e1-cb7f-36e5ddeb9c76"
      },
      "source": [
        "n_test = 10\n",
        "# split into train and test sets\n",
        "train, test = supervised_values[0:-n_test], supervised_values[-n_test:]\n",
        "train"
      ],
      "execution_count": 8,
      "outputs": [
        {
          "output_type": "execute_result",
          "data": {
            "text/plain": [
              "array([[-0.63999169,  0.01392642, -0.40594471,  0.11286635],\n",
              "       [ 0.01392642, -0.40594471,  0.11286635, -0.18977344],\n",
              "       [-0.40594471,  0.11286635, -0.18977344,  0.12242777],\n",
              "       [ 0.11286635, -0.18977344,  0.12242777, -0.17106631],\n",
              "       [-0.18977344,  0.12242777, -0.17106631, -0.27250052],\n",
              "       [ 0.12242777, -0.17106631, -0.27250052, -0.43130326],\n",
              "       [-0.17106631, -0.27250052, -0.43130326,  0.74724589],\n",
              "       [-0.27250052, -0.43130326,  0.74724589, -0.76678445],\n",
              "       [-0.43130326,  0.74724589, -0.76678445, -0.10579921],\n",
              "       [ 0.74724589, -0.76678445, -0.10579921, -0.32695905],\n",
              "       [-0.76678445, -0.10579921, -0.32695905,  0.11120349],\n",
              "       [-0.10579921, -0.32695905,  0.11120349,  0.12201206],\n",
              "       [-0.32695905,  0.11120349,  0.12201206, -0.48118894],\n",
              "       [ 0.11120349,  0.12201206, -0.48118894,  0.25670339],\n",
              "       [ 0.12201206, -0.48118894,  0.25670339, -0.39430472],\n",
              "       [-0.48118894,  0.25670339, -0.39430472,  0.18187487],\n",
              "       [ 0.25670339, -0.39430472,  0.18187487, -0.197672  ],\n",
              "       [-0.39430472,  0.18187487, -0.197672  ,  0.40677614],\n",
              "       [ 0.18187487, -0.197672  ,  0.40677614, -0.79380586],\n",
              "       [-0.197672  ,  0.40677614, -0.79380586,  0.1827063 ],\n",
              "       [ 0.40677614, -0.79380586,  0.1827063 , -0.15152775],\n",
              "       [-0.79380586,  0.1827063 , -0.15152775,  0.2779048 ]])"
            ]
          },
          "metadata": {},
          "execution_count": 8
        }
      ]
    },
    {
      "cell_type": "code",
      "metadata": {
        "colab": {
          "base_uri": "https://localhost:8080/"
        },
        "id": "3o9MRGoI5l_G",
        "outputId": "0cb54537-2eb2-43e1-e8f1-10b489c0f502"
      },
      "source": [
        "# reshape training into [samples, timesteps, features]\n",
        "X, y = train[:, 0:n_lag], train[:, n_lag:]\n",
        "X"
      ],
      "execution_count": 9,
      "outputs": [
        {
          "output_type": "execute_result",
          "data": {
            "text/plain": [
              "array([[-0.63999169],\n",
              "       [ 0.01392642],\n",
              "       [-0.40594471],\n",
              "       [ 0.11286635],\n",
              "       [-0.18977344],\n",
              "       [ 0.12242777],\n",
              "       [-0.17106631],\n",
              "       [-0.27250052],\n",
              "       [-0.43130326],\n",
              "       [ 0.74724589],\n",
              "       [-0.76678445],\n",
              "       [-0.10579921],\n",
              "       [-0.32695905],\n",
              "       [ 0.11120349],\n",
              "       [ 0.12201206],\n",
              "       [-0.48118894],\n",
              "       [ 0.25670339],\n",
              "       [-0.39430472],\n",
              "       [ 0.18187487],\n",
              "       [-0.197672  ],\n",
              "       [ 0.40677614],\n",
              "       [-0.79380586]])"
            ]
          },
          "metadata": {},
          "execution_count": 9
        }
      ]
    },
    {
      "cell_type": "code",
      "metadata": {
        "id": "ry33-8Lm5w1s"
      },
      "source": [
        "X = X.reshape(X.shape[0], 1, X.shape[1])"
      ],
      "execution_count": 10,
      "outputs": []
    },
    {
      "cell_type": "code",
      "metadata": {
        "colab": {
          "base_uri": "https://localhost:8080/"
        },
        "id": "Gs8rvo-E6EGw",
        "outputId": "349ab6c4-23f1-4e32-b96c-2e07910f960e"
      },
      "source": [
        "X.shape"
      ],
      "execution_count": 12,
      "outputs": [
        {
          "output_type": "execute_result",
          "data": {
            "text/plain": [
              "(22, 1, 1)"
            ]
          },
          "metadata": {},
          "execution_count": 12
        }
      ]
    },
    {
      "cell_type": "code",
      "metadata": {
        "id": "JjVH-jtX54dj"
      },
      "source": [
        "n_epochs = 1500\n",
        "n_batch = 1\n",
        "n_neurons = 1\n",
        "# design network\n",
        "model = Sequential()\n",
        "model.add(LSTM(n_neurons, batch_input_shape=(n_batch, X.shape[1], X.shape[2]), stateful=True))\n",
        "model.add(Dense(y.shape[1]))\n",
        "model.compile(loss='mean_squared_error', optimizer='adam')\n",
        "# fit network\n",
        "for i in range(n_epochs):\n",
        "  model.fit(X, y, epochs=1, batch_size=n_batch, verbose=0, shuffle=False)\n",
        "  model.reset_states()"
      ],
      "execution_count": 14,
      "outputs": []
    },
    {
      "cell_type": "code",
      "metadata": {
        "colab": {
          "base_uri": "https://localhost:8080/"
        },
        "id": "9SHdK3ft6T6r",
        "outputId": "5b3a014c-32e9-4d72-b40e-7ef6fc3b25e6"
      },
      "source": [
        "# make one forecast with an LSTM,\n",
        "def forecast_lstm(model, X, n_batch):\n",
        "\t# reshape input pattern to [samples, timesteps, features]\n",
        "\tX = X.reshape(1, 1, len(X))\n",
        "\t# make forecast\n",
        "\tforecast = model.predict(X, batch_size=n_batch)\n",
        "\t# convert to array\n",
        "\treturn [x for x in forecast[0, :]]\n",
        "\n",
        "forecasts = list()\n",
        "for i in range(len(test)):\n",
        "  X, y = test[i, 0:n_lag], test[i, n_lag:]\n",
        "  # make forecast\n",
        "  forecast = forecast_lstm(model, X, n_batch)\n",
        "  # store the forecast\n",
        "  forecasts.append(forecast)\n",
        "\n",
        "forecasts"
      ],
      "execution_count": 15,
      "outputs": [
        {
          "output_type": "execute_result",
          "data": {
            "text/plain": [
              "[[-0.44827718, 0.12383869, -0.32755354],\n",
              " [0.11362423, -0.25892714, 0.075535],\n",
              " [-0.45472744, 0.1282326, -0.33218074],\n",
              " [0.24021906, -0.34516323, 0.16634974],\n",
              " [-0.28958696, 0.015739322, -0.21371469],\n",
              " [0.12308806, -0.2653739, 0.08232402],\n",
              " [-0.33478436, 0.04652767, -0.24613774],\n",
              " [-0.7122324, 0.30364433, -0.51690584],\n",
              " [0.24067318, -0.34547257, 0.16667548],\n",
              " [0.11582118, -0.2604237, 0.07711101]]"
            ]
          },
          "metadata": {},
          "execution_count": 15
        }
      ]
    },
    {
      "cell_type": "code",
      "metadata": {
        "id": "xsxmgaHe78cl"
      },
      "source": [
        "# invert differenced forecast\n",
        "def inverse_difference(last_ob, forecast):\n",
        "\t# invert first forecast\n",
        "\tinverted = list()\n",
        "\tinverted.append(forecast[0] + last_ob)\n",
        "\t# propagate difference forecast using inverted first value\n",
        "\tfor i in range(1, len(forecast)):\n",
        "\t\tinverted.append(forecast[i] + inverted[i-1])\n",
        "\treturn inverted\n",
        "\n",
        "# inverse data transform on forecasts\n",
        "def inverse_transform(series, forecasts, scaler, n_test):\n",
        "\tinverted = list()\n",
        "\tfor i in range(len(forecasts)):\n",
        "\t\t# create array from forecast\n",
        "\t\tforecast = array(forecasts[i])\n",
        "\t\tforecast = forecast.reshape(1, len(forecast))\n",
        "\t\t# invert scaling\n",
        "\t\tinv_scale = scaler.inverse_transform(forecast)\n",
        "\t\tinv_scale = inv_scale[0, :]\n",
        "\t\t# invert differencing\n",
        "\t\tindex = len(series) - n_test + i - 1\n",
        "\t\tlast_ob = series.values[index]\n",
        "\t\tinv_diff = inverse_difference(last_ob, inv_scale)\n",
        "\t\t# store\n",
        "\t\tinverted.append(inv_diff)\n",
        "\treturn inverted\n",
        "\n",
        "# inverse transform forecasts and test\n",
        "forecasts = inverse_transform(series, forecasts, scaler, n_test)\n",
        "actual = [row[n_lag:] for row in test]\n",
        "actual = inverse_transform(series, actual, scaler, n_test)"
      ],
      "execution_count": 18,
      "outputs": []
    },
    {
      "cell_type": "code",
      "metadata": {
        "colab": {
          "base_uri": "https://localhost:8080/",
          "height": 266
        },
        "id": "uXH4MeJh81t0",
        "outputId": "b7b6aa9a-3899-4911-8d63-ebf150dc2bb5"
      },
      "source": [
        "# plot the forecasts in the context of the original dataset\n",
        "def plot_forecasts(series, forecasts, n_test):\n",
        "\t# plot the entire dataset in blue\n",
        "\tpyplot.plot(series.values)\n",
        "\t# plot the forecasts in red\n",
        "\tfor i in range(len(forecasts)):\n",
        "\t\toff_s = len(series) - n_test + i - 1\n",
        "\t\toff_e = off_s + len(forecasts[i]) + 1\n",
        "\t\txaxis = [x for x in range(off_s, off_e)]\n",
        "\t\tyaxis = [series.values[off_s]] + forecasts[i]\n",
        "\t\tpyplot.plot(xaxis, yaxis, color='red')\n",
        "\t# show the plot\n",
        "\tpyplot.show()\n",
        " \n",
        "# plot forecasts\n",
        "plot_forecasts(series, forecasts, n_test)"
      ],
      "execution_count": 19,
      "outputs": [
        {
          "output_type": "display_data",
          "data": {
            "image/png": "[encoded data removed]",
            "text/plain": [
              "<Figure size 432x288 with 1 Axes>"
            ]
          },
          "metadata": {
            "needs_background": "light"
          }
        }
      ]
    },
    {
      "cell_type": "code",
      "metadata": {
        "id": "46-OfRgofRmn"
      },
      "source": [
        "# load dataset\n",
        "series = read_csv('shampoo-sales.csv', header=0, parse_dates=[0], index_col=0, squeeze=True, date_parser=parser)\n",
        "# configure\n",
        "n_lag = 1\n",
        "n_seq = 3\n",
        "n_test = 10\n",
        "n_epochs = 5\n",
        "n_batch = 1\n",
        "n_neurons = 1"
      ],
      "execution_count": 13,
      "outputs": []
    },
    {
      "cell_type": "code",
      "metadata": {
        "id": "gNtlI24GfjTG"
      },
      "source": [
        "# convert time series into supervised learning problem\n",
        "def series_to_supervised(data, n_in=1, n_out=1, dropnan=True):\n",
        "\tn_vars = 1 if type(data) is list else data.shape[1]\n",
        "\tdf = DataFrame(data)\n",
        "\tcols, names = list(), list()\n",
        "\t# input sequence (t-n, ... t-1)\n",
        "\tfor i in range(n_in, 0, -1):\n",
        "\t\tcols.append(df.shift(i))\n",
        "\t\tnames += [('var%d(t-%d)' % (j+1, i)) for j in range(n_vars)]\n",
        "\t# forecast sequence (t, t+1, ... t+n)\n",
        "\tfor i in range(0, n_out):\n",
        "\t\tcols.append(df.shift(-i))\n",
        "\t\tif i == 0:\n",
        "\t\t\tnames += [('var%d(t)' % (j+1)) for j in range(n_vars)]\n",
        "\t\telse:\n",
        "\t\t\tnames += [('var%d(t+%d)' % (j+1, i)) for j in range(n_vars)]\n",
        "\t# put it all together\n",
        "\tagg = concat(cols, axis=1)\n",
        "\tagg.columns = names\n",
        "\t# drop rows with NaN values\n",
        "\tif dropnan:\n",
        "\t\tagg.dropna(inplace=True)\n",
        "\treturn agg\n",
        "\n",
        "# create a differenced series\n",
        "def difference(dataset, interval=1):\n",
        "\tdiff = list()\n",
        "\tfor i in range(interval, len(dataset)):\n",
        "\t\tvalue = dataset[i] - dataset[i - interval]\n",
        "\t\tdiff.append(value)\n",
        "\treturn Series(diff)\n",
        "\n",
        "# transform series into train and test sets for supervised learning\n",
        "def prepare_data(series, n_test, n_lag, n_seq):\n",
        "\t# extract raw values\n",
        "\traw_values = series\n",
        "\t# transform data to be stationary\n",
        "\tdiff_series = difference(raw_values, 1)\n",
        "\tdiff_values = diff_series.values\n",
        "\tdiff_values = diff_values.reshape(len(diff_values), 1)\n",
        "\t# rescale values to -1, 1\n",
        "\tscaler = MinMaxScaler(feature_range=(-1, 1))\n",
        "\tscaled_values = scaler.fit_transform(diff_values)\n",
        "\tscaled_values = scaled_values.reshape(len(scaled_values), 1)\n",
        "\t# transform into supervised learning problem X, y\n",
        "\tsupervised = series_to_supervised(scaled_values, n_lag, n_seq)\n",
        "\tsupervised_values = supervised.values\n",
        "\t# split into train and test sets\n",
        "\ttrain, test = supervised_values[0:-n_test], supervised_values[-n_test:]\n",
        "\treturn scaler, train, test\n",
        "\n",
        "# prepare data\n",
        "scaler, train, test = prepare_data(data, n_test, n_lag, n_seq)"
      ],
      "execution_count": 5,
      "outputs": []
    },
    {
      "cell_type": "code",
      "metadata": {
        "id": "HYKbutap2TH-"
      },
      "source": [
        "n_epochs = 5\n",
        "n_batch = 128\n",
        "n_neurons = 150"
      ],
      "execution_count": 6,
      "outputs": []
    },
    {
      "cell_type": "code",
      "metadata": {
        "colab": {
          "base_uri": "https://localhost:8080/",
          "height": 136
        },
        "id": "VDERhaJfgLqP",
        "outputId": "963af67b-b1da-479b-8459-2b62700a90ae"
      },
      "source": [
        "# fit an LSTM network to training data\n",
        "def fit_lstm(train, n_lag, n_seq, n_batch, nb_epoch, n_neurons):\n",
        "\t# reshape training into [samples, timesteps, features]\n",
        "\tX, y = train[:, 0:n_lag], train[:, n_lag:]\n",
        "\tX = X.reshape(X.shape[0], 1, X.shape[1])\n",
        "\t# design network\n",
        "\tmodel = Sequential()\n",
        "\tmodel.add(LSTM(n_neurons, batch_input_shape=(n_batch, X.shape[1], X.shape[2]), stateful=True))\n",
        "\tmodel.add(Dense(y.shape[1]))\n",
        "\tmodel.compile(loss='mean_squared_error', optimizer='adam')\n",
        "\t# fit network\n",
        "\tfor i in range(nb_epoch):\n",
        "\t\tmodel.fit(X, y, epochs=1, batch_size=n_batch, verbose=0, shuffle=False)\n",
        "\t\tmodel.reset_states()\n",
        "\treturn model\n",
        "\n",
        "# fit model\n",
        "model = fit_lstm(train, n_lag, n_seq, n_batch, n_epochs, n_neurons)"
      ],
      "execution_count": 8,
      "outputs": [
        {
          "output_type": "error",
          "ename": "IndentationError",
          "evalue": "ignored",
          "traceback": [
            "\u001b[0;36m  File \u001b[0;32m\"<ipython-input-8-d33ae0f8e693>\"\u001b[0;36m, line \u001b[0;32m6\u001b[0m\n\u001b[0;31m    y = y.reshape(y.shape[0], 1, y.shape[1])\u001b[0m\n\u001b[0m                                            ^\u001b[0m\n\u001b[0;31mIndentationError\u001b[0m\u001b[0;31m:\u001b[0m unindent does not match any outer indentation level\n"
          ]
        }
      ]
    },
    {
      "cell_type": "code",
      "metadata": {
        "id": "R33ugJgDzSN7"
      },
      "source": [
        "# make one forecast with an LSTM,\n",
        "def forecast_lstm(model, X, n_batch):\n",
        "\t# reshape input pattern to [samples, timesteps, features]\n",
        "\tX = X.reshape(1, 1, len(X))\n",
        "\t# make forecast\n",
        "\tforecast = model.predict(X, batch_size=n_batch)\n",
        "\t# convert to array\n",
        "\treturn [x for x in forecast[0, :]]\n",
        " \n",
        "# evaluate the persistence model\n",
        "def make_forecasts(model, n_batch, train, test, n_lag, n_seq):\n",
        "\tforecasts = list()\n",
        "\tfor i in range(len(test)):\n",
        "\t\tX, y = test[i, 0:n_lag], test[i, n_lag:]\n",
        "\t\t# make forecast\n",
        "\t\tforecast = forecast_lstm(model, X, n_batch)\n",
        "\t\t# store the forecast\n",
        "\t\tforecasts.append(forecast)\n",
        "\treturn forecasts\n",
        "\n",
        "# make forecasts\n",
        "forecasts = make_forecasts(model, n_batch, train, test, n_lag, n_seq)"
      ],
      "execution_count": 16,
      "outputs": []
    },
    {
      "cell_type": "code",
      "metadata": {
        "id": "33nMzfoTzpfS"
      },
      "source": [
        "# invert differenced forecast\n",
        "def inverse_difference(last_ob, forecast):\n",
        "\t# invert first forecast\n",
        "\tinverted = list()\n",
        "\tinverted.append(forecast[0] + last_ob)\n",
        "\t# propagate difference forecast using inverted first value\n",
        "\tfor i in range(1, len(forecast)):\n",
        "\t\tinverted.append(forecast[i] + inverted[i-1])\n",
        "\treturn inverted\n",
        " \n",
        "# inverse data transform on forecasts\n",
        "def inverse_transform(series, forecasts, scaler, n_test):\n",
        "\tinverted = list()\n",
        "\tfor i in range(len(forecasts)):\n",
        "\t\t# create array from forecast\n",
        "\t\tforecast = array(forecasts[i])\n",
        "\t\tforecast = forecast.reshape(1, len(forecast))\n",
        "\t\t# invert scaling\n",
        "\t\tinv_scale = scaler.inverse_transform(forecast)\n",
        "\t\tinv_scale = inv_scale[0, :]\n",
        "\t\t# invert differencing\n",
        "\t\tindex = len(series) - n_test + i - 1\n",
        "\t\tlast_ob = series.values[index]\n",
        "\t\tinv_diff = inverse_difference(last_ob, inv_scale)\n",
        "\t\t# store\n",
        "\t\tinverted.append(inv_diff)\n",
        "\treturn inverted\n",
        "\n",
        "# inverse transform forecasts and test\n",
        "forecasts = inverse_transform(series, forecasts, scaler, n_test+2)\n",
        "actual = [row[n_lag:] for row in test]\n",
        "actual = inverse_transform(series, actual, scaler, n_test+2)"
      ],
      "execution_count": 17,
      "outputs": []
    },
    {
      "cell_type": "code",
      "metadata": {
        "colab": {
          "base_uri": "https://localhost:8080/"
        },
        "id": "BIQxtbhPzywd",
        "outputId": "139d7dc4-0eac-4d88-8c92-9dfc47f08970"
      },
      "source": [
        "# evaluate the RMSE for each forecast time step\n",
        "def evaluate_forecasts(test, forecasts, n_lag, n_seq):\n",
        "\tfor i in range(n_seq):\n",
        "\t\tactual = [row[i] for row in test]\n",
        "\t\tpredicted = [forecast[i] for forecast in forecasts]\n",
        "\t\trmse = sqrt(mean_squared_error(actual, predicted))\n",
        "\t\tprint('t+%d RMSE: %f' % ((i+1), rmse))\n",
        "  \n",
        "# evaluate forecasts\n",
        "evaluate_forecasts(actual, forecasts, n_lag, n_seq)"
      ],
      "execution_count": 18,
      "outputs": [
        {
          "output_type": "stream",
          "name": "stdout",
          "text": [
            "t+1 RMSE: 125.009568\n",
            "t+2 RMSE: 69.863870\n",
            "t+3 RMSE: 100.744996\n"
          ]
        }
      ]
    },
    {
      "cell_type": "code",
      "metadata": {
        "colab": {
          "base_uri": "https://localhost:8080/",
          "height": 265
        },
        "id": "SMpmYse1z2tT",
        "outputId": "254f5fe5-4b95-4c48-b4a4-89ae5d8c8259"
      },
      "source": [
        "# plot the forecasts in the context of the original dataset\n",
        "def plot_forecasts(series, forecasts, n_test):\n",
        "\t# plot the entire dataset in blue\n",
        "\tpyplot.plot(series.values)\n",
        "\t# plot the forecasts in red\n",
        "\tfor i in range(len(forecasts)):\n",
        "\t\toff_s = len(series) - n_test + i - 1\n",
        "\t\toff_e = off_s + len(forecasts[i]) + 1\n",
        "\t\txaxis = [x for x in range(off_s, off_e)]\n",
        "\t\tyaxis = [series.values[off_s]] + forecasts[i]\n",
        "\t\tpyplot.plot(xaxis, yaxis, color='red')\n",
        "\t# show the plot\n",
        "\tpyplot.show()\n",
        " \n",
        " # plot forecasts\n",
        "plot_forecasts(series, forecasts, n_test+2)"
      ],
      "execution_count": 19,
      "outputs": [
        {
          "output_type": "display_data",
          "data": {
            "image/png": "[encoded data removed]",
            "text/plain": [
              "<Figure size 432x288 with 1 Axes>"
            ]
          },
          "metadata": {
            "needs_background": "light"
          }
        }
      ]
    }
  ]
}